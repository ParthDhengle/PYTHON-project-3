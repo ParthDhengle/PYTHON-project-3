{
  "nbformat": 4,
  "nbformat_minor": 0,
  "metadata": {
    "colab": {
      "provenance": [],
      "authorship_tag": "ABX9TyOBQiQmdt9ccpXkZFkjhqRf",
      "include_colab_link": true
    },
    "kernelspec": {
      "name": "python3",
      "display_name": "Python 3"
    },
    "language_info": {
      "name": "python"
    }
  },
  "cells": [
    {
      "cell_type": "markdown",
      "metadata": {
        "id": "view-in-github",
        "colab_type": "text"
      },
      "source": [
        "<a href=\"https://colab.research.google.com/github/ParthDhengle/PYTHON-project-3/blob/main/MIneGame.ipynb\" target=\"_parent\"><img src=\"https://colab.research.google.com/assets/colab-badge.svg\" alt=\"Open In Colab\"/></a>"
      ]
    },
    {
      "cell_type": "markdown",
      "source": [
        "# Initializing step:\n",
        "take input from user if they want to play or quite"
      ],
      "metadata": {
        "id": "1HKIy3CDW_7e"
      }
    },
    {
      "cell_type": "code",
      "source": [
        "score = 0\n",
        "highScore=0\n",
        "print(\"\\n1. Play\\n2. High Score\\n3. Quit\")\n",
        "n = int(input(\"Enter your choice: \"))\n",
        "\n",
        "if n == 2:\n",
        "  print(f\"\\nHigh Score: {highScore}\\n\")\n",
        "  #continue\n",
        "elif n == 3:\n",
        "  print(\"Thanks for playing!\")\n",
        "  #break\n",
        "elif n != 1:\n",
        "  print(\"Invalid choice. Please select again.\")\n",
        "  #continue"
      ],
      "metadata": {
        "colab": {
          "base_uri": "https://localhost:8080/"
        },
        "id": "Shj0NobFWw1D",
        "outputId": "88d7347e-7189-4d8c-de34-f86540ac18bd"
      },
      "execution_count": 4,
      "outputs": [
        {
          "output_type": "stream",
          "name": "stdout",
          "text": [
            "\n",
            "1. Play\n",
            "2. High Score\n",
            "3. Quit\n",
            "Enter your choice: 2\n",
            "\n",
            "High Score: 0\n",
            "\n"
          ]
        }
      ]
    },
    {
      "cell_type": "markdown",
      "source": [
        "# Create a 5x5 matrix\n",
        "1. Board on which the actual game will be played , this board contains 0,1 digits at random positions\n",
        "2.Visit which stores boolean values (True/False) to check if that position is visited while playing game..."
      ],
      "metadata": {
        "id": "y79OML5xXo5w"
      }
    },
    {
      "cell_type": "code",
      "source": [
        "import random\n",
        "board = [[random.randint(0, 1) for i in range(5)] for i in range(5)]\n",
        "visit = [[False for i in range(5)] for i in range(5)]\n",
        "print(board)\n",
        "print(visit)"
      ],
      "metadata": {
        "colab": {
          "base_uri": "https://localhost:8080/"
        },
        "id": "tz1r-Oq4WwpE",
        "outputId": "9e6932b7-5488-414e-a2f0-dcc6c52cdf8b"
      },
      "execution_count": 5,
      "outputs": [
        {
          "output_type": "stream",
          "name": "stdout",
          "text": [
            "[[1, 1, 1, 1, 1], [0, 0, 0, 1, 1], [0, 1, 1, 0, 0], [1, 1, 0, 0, 0], [0, 1, 0, 0, 1]]\n",
            "[[False, False, False, False, False], [False, False, False, False, False], [False, False, False, False, False], [False, False, False, False, False], [False, False, False, False, False]]\n"
          ]
        }
      ]
    },
    {
      "cell_type": "markdown",
      "source": [
        "A function which Display a Board on screen, such that user can check if the position is visited or  not"
      ],
      "metadata": {
        "id": "zFzZWYodYzUZ"
      }
    },
    {
      "cell_type": "code",
      "source": [
        "def displayBoard(m=-1, n=-1):\n",
        "  val = 1\n",
        "  for i in range(5):\n",
        "    for j in range(5):\n",
        "      if (i == m and j == n) or visit[i][j]:\n",
        "        print(\"O\", end=\"\\t\")\n",
        "        visit[i][j] = True\n",
        "      else:\n",
        "        print(val, end=\"\\t\")\n",
        "      val += 1\n",
        "    print(\"\\n\")\n",
        "displayBoard(3,3)"
      ],
      "metadata": {
        "colab": {
          "base_uri": "https://localhost:8080/"
        },
        "id": "MF4tRhzVYyvd",
        "outputId": "05f279de-3156-4420-e3af-55a49f9ac0b3"
      },
      "execution_count": 9,
      "outputs": [
        {
          "output_type": "stream",
          "name": "stdout",
          "text": [
            "1\t2\t3\t4\t5\t\n",
            "\n",
            "6\t7\t8\t9\t10\t\n",
            "\n",
            "11\t12\t13\t14\t15\t\n",
            "\n",
            "16\t17\t18\tO\t20\t\n",
            "\n",
            "21\t22\t23\t24\t25\t\n",
            "\n"
          ]
        }
      ]
    },
    {
      "cell_type": "markdown",
      "source": [
        "A function which displays full board with all hidden values after the game is over(win/lose)"
      ],
      "metadata": {
        "id": "P9TfBWObZYeR"
      }
    },
    {
      "cell_type": "code",
      "source": [
        "def displayFullBoard():\n",
        "  for i in range(5):\n",
        "    for j in range(5):\n",
        "      if board[i][j] == 0:\n",
        "        print(\"[0]\", end=\"\\t\")\n",
        "      else:\n",
        "        print(\"[1]\", end=\"\\t\")\n",
        "    print(\"\\n\")\n",
        "displayFullBoard()"
      ],
      "metadata": {
        "colab": {
          "base_uri": "https://localhost:8080/"
        },
        "id": "7cAXyqVgYyde",
        "outputId": "d4d5b2ea-df32-4204-fdb1-8f1b7e396d14"
      },
      "execution_count": 10,
      "outputs": [
        {
          "output_type": "stream",
          "name": "stdout",
          "text": [
            "[1]\t[1]\t[1]\t[1]\t[1]\t\n",
            "\n",
            "[0]\t[0]\t[0]\t[1]\t[1]\t\n",
            "\n",
            "[0]\t[1]\t[1]\t[0]\t[0]\t\n",
            "\n",
            "[1]\t[1]\t[0]\t[0]\t[0]\t\n",
            "\n",
            "[0]\t[1]\t[0]\t[0]\t[1]\t\n",
            "\n"
          ]
        }
      ]
    },
    {
      "cell_type": "markdown",
      "source": [
        "A winning condition function to check if the user have visited all the position without landing on mine"
      ],
      "metadata": {
        "id": "tv2qCcguZzcD"
      }
    },
    {
      "cell_type": "code",
      "source": [
        "def winningCondition():\n",
        "  for i in range(5):\n",
        "    for j in range(5):\n",
        "      if not visit[i][j] and board[i][j] == 1:\n",
        "        return False\n",
        "  return True"
      ],
      "metadata": {
        "id": "lriADGd8ZzOr"
      },
      "execution_count": 14,
      "outputs": []
    },
    {
      "cell_type": "markdown",
      "source": [
        "Take input from user for position to visit.."
      ],
      "metadata": {
        "id": "NpH8T_Q3aMU2"
      }
    },
    {
      "cell_type": "code",
      "source": [
        "choice = int(input(\"Enter your choice (1-25): \"))\n",
        "if choice < 1 or choice > 25:\n",
        "  print(\"Enter a valid choice between 1 and 25.\")\n",
        "  #continue\n",
        "row = (choice - 1) // 5\n",
        "col = (choice - 1) % 5\n",
        "if visit[row][col]:\n",
        "  print(\"You have already visited this cell. Choose another.\")"
      ],
      "metadata": {
        "colab": {
          "base_uri": "https://localhost:8080/"
        },
        "id": "itM8jGDBZzFh",
        "outputId": "cde04176-d4ad-4d64-f0eb-5791a58835b6"
      },
      "execution_count": 12,
      "outputs": [
        {
          "name": "stdout",
          "output_type": "stream",
          "text": [
            "Enter your choice (1-25): 4\n"
          ]
        }
      ]
    },
    {
      "cell_type": "markdown",
      "source": [
        "# Merge\n",
        "finally, write the game code:"
      ],
      "metadata": {
        "id": "OeoSHQUDbEnR"
      }
    },
    {
      "cell_type": "code",
      "source": [
        "import random\n",
        "\n",
        "highScore = 0\n",
        "\n",
        "while True:\n",
        "  score = 0\n",
        "  print(\"\\n1. Play\\n2. High Score\\n3. Quit\")\n",
        "  n = int(input(\"Enter your choice: \"))\n",
        "\n",
        "  if n == 2:\n",
        "    print(f\"\\nHigh Score: {highScore}\\n\")\n",
        "    continue\n",
        "  elif n == 3:\n",
        "    print(\"Thanks for playing!\")\n",
        "    break\n",
        "  elif n != 1:\n",
        "    print(\"Invalid choice. Please select again.\")\n",
        "    continue\n",
        "\n",
        "  board = [[random.randint(0, 1) for _ in range(5)] for _ in range(5)]\n",
        "  visit = [[False for _ in range(5)] for _ in range(5)]\n",
        "\n",
        "  displayBoard()\n",
        "\n",
        "  while True:\n",
        "    print(f\"Score: {score}\")\n",
        "    choice = int(input(\"Enter your choice (1-25): \"))\n",
        "\n",
        "    if choice < 1 or choice > 25:\n",
        "      print(\"Enter a valid choice between 1 and 25.\")\n",
        "      continue\n",
        "    row = (choice - 1) // 5\n",
        "    col = (choice - 1) % 5\n",
        "    if visit[row][col]:\n",
        "      print(\"You have already visited this cell. Choose another.\")\n",
        "      continue\n",
        "\n",
        "    if board[row][col] == 0:\n",
        "      print(\"You lose!\")\n",
        "      displayFullBoard()\n",
        "      break\n",
        "\n",
        "    displayBoard(row, col)\n",
        "\n",
        "    if board[row][col] == 1 and winningCondition():\n",
        "      print(\"You win!\")\n",
        "      break\n",
        "\n",
        "    score = score * 5 + 10\n",
        "    print(\"Your score:\", score)\n",
        "\n",
        "    risk = input(\"Do you want to stop? (y/n): \").lower()\n",
        "    if risk == 'y':\n",
        "      break\n",
        "\n",
        "  highScore = max(highScore, score)"
      ],
      "metadata": {
        "colab": {
          "base_uri": "https://localhost:8080/"
        },
        "id": "MFg2rptUNHBw",
        "outputId": "24c71b3a-0820-4412-f586-fa510544d1e4"
      },
      "execution_count": 15,
      "outputs": [
        {
          "output_type": "stream",
          "name": "stdout",
          "text": [
            "\n",
            "1. Play\n",
            "2. High Score\n",
            "3. Quit\n",
            "Enter your choice: 1\n",
            "1\t2\t3\t4\t5\t\n",
            "\n",
            "6\t7\t8\t9\t10\t\n",
            "\n",
            "11\t12\t13\t14\t15\t\n",
            "\n",
            "16\t17\t18\t19\t20\t\n",
            "\n",
            "21\t22\t23\t24\t25\t\n",
            "\n",
            "Score: 0\n",
            "Enter your choice (1-25): 8\n",
            "You lose!\n",
            "[1]\t[1]\t[1]\t[0]\t[1]\t\n",
            "\n",
            "[0]\t[0]\t[0]\t[0]\t[0]\t\n",
            "\n",
            "[1]\t[1]\t[1]\t[1]\t[1]\t\n",
            "\n",
            "[1]\t[0]\t[0]\t[1]\t[0]\t\n",
            "\n",
            "[1]\t[0]\t[0]\t[0]\t[0]\t\n",
            "\n",
            "Your score: 0\n",
            "\n",
            "1. Play\n",
            "2. High Score\n",
            "3. Quit\n",
            "Enter your choice: 1\n",
            "1\t2\t3\t4\t5\t\n",
            "\n",
            "6\t7\t8\t9\t10\t\n",
            "\n",
            "11\t12\t13\t14\t15\t\n",
            "\n",
            "16\t17\t18\t19\t20\t\n",
            "\n",
            "21\t22\t23\t24\t25\t\n",
            "\n",
            "Score: 0\n",
            "Enter your choice (1-25): 2\n",
            "1\tO\t3\t4\t5\t\n",
            "\n",
            "6\t7\t8\t9\t10\t\n",
            "\n",
            "11\t12\t13\t14\t15\t\n",
            "\n",
            "16\t17\t18\t19\t20\t\n",
            "\n",
            "21\t22\t23\t24\t25\t\n",
            "\n",
            "Do you want to stop? (y/n): n\n",
            "Score: 10\n",
            "Enter your choice (1-25): 14\n",
            "1\tO\t3\t4\t5\t\n",
            "\n",
            "6\t7\t8\t9\t10\t\n",
            "\n",
            "11\t12\t13\tO\t15\t\n",
            "\n",
            "16\t17\t18\t19\t20\t\n",
            "\n",
            "21\t22\t23\t24\t25\t\n",
            "\n",
            "Do you want to stop? (y/n): n\n",
            "Score: 60\n",
            "Enter your choice (1-25): 4\n",
            "You lose!\n",
            "[1]\t[1]\t[0]\t[0]\t[1]\t\n",
            "\n",
            "[0]\t[1]\t[1]\t[1]\t[0]\t\n",
            "\n",
            "[0]\t[0]\t[1]\t[1]\t[0]\t\n",
            "\n",
            "[0]\t[1]\t[0]\t[1]\t[1]\t\n",
            "\n",
            "[1]\t[0]\t[1]\t[0]\t[0]\t\n",
            "\n",
            "Your score: 60\n",
            "\n",
            "1. Play\n",
            "2. High Score\n",
            "3. Quit\n",
            "Enter your choice: 3\n",
            "Thanks for playing!\n"
          ]
        }
      ]
    },
    {
      "cell_type": "code",
      "source": [],
      "metadata": {
        "id": "6Em6W3iBcUVU"
      },
      "execution_count": null,
      "outputs": []
    }
  ]
}